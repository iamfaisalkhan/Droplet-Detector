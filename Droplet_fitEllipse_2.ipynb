{
 "cells": [
  {
   "cell_type": "code",
   "execution_count": 1,
   "metadata": {
    "collapsed": true
   },
   "outputs": [],
   "source": [
    "import numpy as np\n",
    "import matplotlib.pyplot as plt\n",
    "import matplotlib.image as mpimg\n",
    "import cv2\n",
    "import glob\n",
    "\n",
    "from ipywidgets import interact\n",
    "\n",
    "get_ipython().magic('matplotlib inline')\n",
    "plt.rcParams['figure.figsize'] = (10.0, 8.0) # set default size of plots\n",
    "plt.rcParams['image.interpolation'] = 'nearest'\n",
    "plt.rcParams['image.cmap'] = 'gray'\n",
    "plt.rcParams['axes.titlesize'] = 8\n",
    "\n"
   ]
  },
  {
   "cell_type": "code",
   "execution_count": 18,
   "metadata": {
    "collapsed": true
   },
   "outputs": [],
   "source": [
    "# Functions\n",
    "\n",
    "def normalize(src):\n",
    "    return cv2.blur(src, ksize=(9,9))\n",
    "\n",
    "def binary_threshold(src, low=70, high=255):\n",
    "    _, binary = cv2.threshold(src, low, high, 0)\n",
    "    return binary\n",
    "\n",
    "def find_contours(binary):\n",
    "    im2, contours, hierarchy = cv2.findContours(binary, cv2.RETR_EXTERNAL, cv2.CHAIN_APPROX_SIMPLE)\n",
    "    return contours\n",
    "\n",
    "def draw_contours(src, contours):\n",
    "    out = np.copy(src)\n",
    "    \n",
    "    if out.ndim == 2:\n",
    "        out = np.dstack((out, out, out))\n",
    "        \n",
    "    cv2.drawContours(out, contours, -1, (0, 255, 0), 3)\n",
    "    \n",
    "    return out\n",
    "\n",
    "def draw_ellipses(src, rect, ellipses):\n",
    "    out = np.copy(src)\n",
    "    \n",
    "    if out.ndim == 2:\n",
    "        out = np.dstack((out, out, out))\n",
    "    \n",
    "    for ellipse in ellipses:\n",
    "        cv2.ellipse(out, ellipse, (255, 0, 0), 3)\n",
    "    \n",
    "    for rect in rects:\n",
    "        for i in range(4):\n",
    "            print (rect[i])\n",
    "    \n",
    "    return out\n",
    "\n",
    "def fit_ellipse(src):\n",
    "    src = normalize(src)\n",
    "    binary = binary_threshold(src)\n",
    "    contours = find_contours(binary)\n",
    "    \n",
    "    ellipses = []\n",
    "    rects = []\n",
    "    for cnt in contours:\n",
    "        rects.append(cv2.minAreaRect(cnt))\n",
    "        if cnt.shape[0] > 5:\n",
    "            ellipses.append(cv2.fitEllipse(cnt))\n",
    "    return contours, rects, ellipses\n"
   ]
  },
  {
   "cell_type": "code",
   "execution_count": 19,
   "metadata": {},
   "outputs": [
    {
     "name": "stdout",
     "output_type": "stream",
     "text": [
      "(379.0, 216.5)\n",
      "(462.0, 431.0)\n",
      "-0.0\n"
     ]
    },
    {
     "ename": "IndexError",
     "evalue": "tuple index out of range",
     "output_type": "error",
     "traceback": [
      "\u001b[0;31m---------------------------------------------------------------------------\u001b[0m",
      "\u001b[0;31mIndexError\u001b[0m                                Traceback (most recent call last)",
      "\u001b[0;32m<ipython-input-19-ba5494266de5>\u001b[0m in \u001b[0;36m<module>\u001b[0;34m()\u001b[0m\n\u001b[1;32m     16\u001b[0m     \u001b[0mcontours\u001b[0m\u001b[0;34m,\u001b[0m \u001b[0mrects\u001b[0m\u001b[0;34m,\u001b[0m \u001b[0mellipses\u001b[0m \u001b[0;34m=\u001b[0m \u001b[0mfit_ellipse\u001b[0m\u001b[0;34m(\u001b[0m\u001b[0mimg\u001b[0m\u001b[0;34m)\u001b[0m\u001b[0;34m\u001b[0m\u001b[0m\n\u001b[1;32m     17\u001b[0m     \u001b[0mcontour_plt\u001b[0m \u001b[0;34m=\u001b[0m \u001b[0mdraw_contours\u001b[0m\u001b[0;34m(\u001b[0m\u001b[0mimg\u001b[0m\u001b[0;34m,\u001b[0m \u001b[0mcontours\u001b[0m\u001b[0;34m)\u001b[0m\u001b[0;34m\u001b[0m\u001b[0m\n\u001b[0;32m---> 18\u001b[0;31m     \u001b[0mellipse_plt\u001b[0m \u001b[0;34m=\u001b[0m \u001b[0mdraw_ellipses\u001b[0m\u001b[0;34m(\u001b[0m\u001b[0mimg\u001b[0m\u001b[0;34m,\u001b[0m \u001b[0mrects\u001b[0m\u001b[0;34m,\u001b[0m \u001b[0mellipses\u001b[0m\u001b[0;34m)\u001b[0m\u001b[0;34m\u001b[0m\u001b[0m\n\u001b[0m\u001b[1;32m     19\u001b[0m \u001b[0;34m\u001b[0m\u001b[0m\n\u001b[1;32m     20\u001b[0m     \u001b[0;31m# Plot these images\u001b[0m\u001b[0;34m\u001b[0m\u001b[0;34m\u001b[0m\u001b[0m\n",
      "\u001b[0;32m<ipython-input-18-c32eacf4fcb7>\u001b[0m in \u001b[0;36mdraw_ellipses\u001b[0;34m(src, rect, ellipses)\u001b[0m\n\u001b[1;32m     33\u001b[0m     \u001b[0;32mfor\u001b[0m \u001b[0mrect\u001b[0m \u001b[0;32min\u001b[0m \u001b[0mrects\u001b[0m\u001b[0;34m:\u001b[0m\u001b[0;34m\u001b[0m\u001b[0m\n\u001b[1;32m     34\u001b[0m         \u001b[0;32mfor\u001b[0m \u001b[0mi\u001b[0m \u001b[0;32min\u001b[0m \u001b[0mrange\u001b[0m\u001b[0;34m(\u001b[0m\u001b[0;36m4\u001b[0m\u001b[0;34m)\u001b[0m\u001b[0;34m:\u001b[0m\u001b[0;34m\u001b[0m\u001b[0m\n\u001b[0;32m---> 35\u001b[0;31m             \u001b[0mprint\u001b[0m \u001b[0;34m(\u001b[0m\u001b[0mrect\u001b[0m\u001b[0;34m[\u001b[0m\u001b[0mi\u001b[0m\u001b[0;34m]\u001b[0m\u001b[0;34m)\u001b[0m\u001b[0;34m\u001b[0m\u001b[0m\n\u001b[0m\u001b[1;32m     36\u001b[0m \u001b[0;34m\u001b[0m\u001b[0m\n\u001b[1;32m     37\u001b[0m     \u001b[0;32mreturn\u001b[0m \u001b[0mout\u001b[0m\u001b[0;34m\u001b[0m\u001b[0m\n",
      "\u001b[0;31mIndexError\u001b[0m: tuple index out of range"
     ]
    },
    {
     "data": {
      "image/png": "[encoded data removed]",
      "text/plain": [
       "<matplotlib.figure.Figure at 0x7f541f51c978>"
      ]
     },
     "metadata": {},
     "output_type": "display_data"
    }
   ],
   "source": [
    "samples = [\n",
    "           './samples/full_droplet_1.jpg', \n",
    "           './samples/full_droplet_2.jpg', \n",
    "           './samples/droplet_up_nolabel.jpg',\n",
    "           './samples/pipette_tip_nolbl.jpg',\n",
    "            './samples/imagex.jpg'\n",
    "          ]\n",
    "\n",
    "fig, axs = plt.subplots(len(samples), 3, figsize=(15, 15))\n",
    "i = 0\n",
    "\n",
    "for sample in samples:\n",
    "    img = cv2.imread(sample, 0)\n",
    "    img = img[30:, :]\n",
    "    \n",
    "    contours, rects, ellipses = fit_ellipse(img)\n",
    "    contour_plt = draw_contours(img, contours)\n",
    "    ellipse_plt = draw_ellipses(img, rects, ellipses)\n",
    "    \n",
    "    # Plot these images\n",
    "    axs[i, 0].imshow(img, cmap='gray')\n",
    "    axs[i, 1].imshow(contour_plt)\n",
    "    axs[i, 2].imshow(ellipse_plt)\n",
    "    \n",
    "    if i == 0:\n",
    "        axs[i, 0].set_title('Original Image')\n",
    "        axs[i, 1].set_title('Contour Image')\n",
    "        axs[i, 2].set_title('Final Result')\n",
    "    \n",
    "    i = i + 1\n",
    "    "
   ]
  },
  {
   "cell_type": "code",
   "execution_count": null,
   "metadata": {
    "collapsed": true
   },
   "outputs": [],
   "source": []
  }
 ],
 "metadata": {
  "kernelspec": {
   "display_name": "Python [conda env:vision]",
   "language": "python",
   "name": "conda-env-vision-py"
  },
  "language_info": {
   "codemirror_mode": {
    "name": "ipython",
    "version": 3
   },
   "file_extension": ".py",
   "mimetype": "text/x-python",
   "name": "python",
   "nbconvert_exporter": "python",
   "pygments_lexer": "ipython3",
   "version": "3.5.2"
  },
  "widgets": {
   "state": {},
   "version": "1.1.2"
  }
 },
 "nbformat": 4,
 "nbformat_minor": 2
}
